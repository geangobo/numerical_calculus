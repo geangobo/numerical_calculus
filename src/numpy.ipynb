{
 "cells": [
  {
   "cell_type": "markdown",
   "metadata": {},
   "source": [
    "## 1. Numpy "
   ]
  },
  {
   "cell_type": "markdown",
   "metadata": {},
   "source": [
    "#### Packages"
   ]
  },
  {
   "cell_type": "code",
   "execution_count": 31,
   "metadata": {},
   "outputs": [],
   "source": [
    "import numpy as np\n",
    "import random"
   ]
  },
  {
   "cell_type": "markdown",
   "metadata": {},
   "source": [
    "- Criando Arrays"
   ]
  },
  {
   "cell_type": "code",
   "execution_count": 6,
   "metadata": {},
   "outputs": [
    {
     "name": "stdout",
     "output_type": "stream",
     "text": [
      "[[1. 1.]\n",
      " [1. 1.]]\n"
     ]
    }
   ],
   "source": [
    "b = np.ones((2,2))\n",
    "print(b)"
   ]
  },
  {
   "cell_type": "code",
   "execution_count": 17,
   "metadata": {},
   "outputs": [
    {
     "name": "stdout",
     "output_type": "stream",
     "text": [
      "[[3.1415 3.1415]\n",
      " [3.1415 3.1415]]\n",
      "float64\n"
     ]
    }
   ],
   "source": [
    "c = np.full((2,2), 3.1415)\n",
    "print(c)\n",
    "print(c.dtype)"
   ]
  },
  {
   "cell_type": "code",
   "execution_count": 20,
   "metadata": {},
   "outputs": [
    {
     "data": {
      "text/plain": [
       "array([[1., 0., 0., 0.],\n",
       "       [0., 1., 0., 0.],\n",
       "       [0., 0., 1., 0.],\n",
       "       [0., 0., 0., 1.]])"
      ]
     },
     "execution_count": 20,
     "metadata": {},
     "output_type": "execute_result"
    }
   ],
   "source": [
    "# Criando matrizes identidade\n",
    "d = np.eye(4)\n",
    "d"
   ]
  },
  {
   "cell_type": "code",
   "execution_count": 28,
   "metadata": {},
   "outputs": [
    {
     "name": "stdout",
     "output_type": "stream",
     "text": [
      " Criando uma matriz: \n",
      " [[0 0 0]\n",
      " [0 1 0]\n",
      " [0 0 2]] \n",
      " \n",
      "\n",
      " Tipo de dado: <class 'numpy.ndarray'>\n"
     ]
    }
   ],
   "source": [
    "# Criando matrizes diagonais\n",
    "a = np.diag(np.arange(3))\n",
    "print(f\" Criando uma matriz: \\n {a} \\n \\n\")\n",
    "print(f\" Tipo de dado: {type(a)}\")"
   ]
  },
  {
   "cell_type": "code",
   "execution_count": 34,
   "metadata": {},
   "outputs": [
    {
     "name": "stdout",
     "output_type": "stream",
     "text": [
      "[[ 8  9  8 11 11]\n",
      " [ 7 10  5 10  6]]\n"
     ]
    }
   ],
   "source": [
    "import numpy as np  # Importa o numpy\n",
    "\n",
    "rng = np.random.default_rng()  # Usa o gerador de números aleatórios do numpy\n",
    "g = rng.integers(low=5, high=12, size=(2, 5))  # Gera números inteiros\n",
    "print(g)"
   ]
  },
  {
   "cell_type": "code",
   "execution_count": 42,
   "metadata": {},
   "outputs": [
    {
     "data": {
      "text/plain": [
       "array([[1, 2, 3],\n",
       "       [4, 5, 6],\n",
       "       [7, 8, 9]])"
      ]
     },
     "execution_count": 42,
     "metadata": {},
     "output_type": "execute_result"
    }
   ],
   "source": [
    "a = np.array([1, 2, 3, 4, 5, 6, 7, 8, 9])\n",
    "\n",
    "# Transforma o array em uma matriz 3x3\n",
    "matriz = a.reshape(3, 3)\n",
    "matriz"
   ]
  },
  {
   "cell_type": "code",
   "execution_count": 45,
   "metadata": {},
   "outputs": [
    {
     "data": {
      "text/plain": [
       "array([[2, 3],\n",
       "       [5, 6]])"
      ]
     },
     "execution_count": 45,
     "metadata": {},
     "output_type": "execute_result"
    }
   ],
   "source": [
    "b = matriz[:2, 1:3]\n",
    "b"
   ]
  },
  {
   "cell_type": "code",
   "execution_count": 53,
   "metadata": {},
   "outputs": [
    {
     "name": "stdout",
     "output_type": "stream",
     "text": [
      "Criando Array boolean: \n",
      " [ True False False  True]\n",
      "       Criando uma matriz boolean [[1 2 3]\n",
      " [4 5 6]\n",
      " [7 8 9]]\n"
     ]
    }
   ],
   "source": [
    "# Geração de um array booleano\n",
    "array_booleano = np.array([True, False, False, True])\n",
    "matriz_boolean = array_booleano.reshape(2, 2)\n",
    "\n",
    "\n",
    "print(f\"Criando Array boolean: \\n {array_booleano}\\n \\\n",
    "      Criando uma matriz boolean {matriz}\")"
   ]
  },
  {
   "cell_type": "markdown",
   "metadata": {},
   "source": [
    "- Multiplicando vetores em Python: "
   ]
  },
  {
   "cell_type": "code",
   "execution_count": 66,
   "metadata": {},
   "outputs": [],
   "source": [
    "a = np.array([1, 2, 3])\n",
    "b = np.array([4, 5, 6])"
   ]
  },
  {
   "cell_type": "code",
   "execution_count": null,
   "metadata": {},
   "outputs": [
    {
     "name": "stdout",
     "output_type": "stream",
     "text": [
      "Produto escalar: 32\n"
     ]
    }
   ],
   "source": [
    "produto_escalar = np.dot(a, b)\n",
    "\n",
    "print(\"Produto escalar:\", produto_escalar)"
   ]
  },
  {
   "cell_type": "markdown",
   "metadata": {},
   "source": [
    "- Geradores de números aleatórios"
   ]
  },
  {
   "cell_type": "code",
   "execution_count": 73,
   "metadata": {},
   "outputs": [
    {
     "name": "stdout",
     "output_type": "stream",
     "text": [
      "Número sorteado: 3\n"
     ]
    }
   ],
   "source": [
    "def escolha():\n",
    "    # Definindo os números e suas probabilidades\n",
    "    numeros = [1, 2, 3, 4]\n",
    "    probabilidades = [0.0, 0.4, 0.3, 0.2]  # Probabilidades para cada número\n",
    "\n",
    "    # Sorteando um número com base nas probabilidades\n",
    "    numero_sorteado = random.choices(numeros, weights=probabilidades, k=1)[0]\n",
    "\n",
    "    return numero_sorteado\n",
    "\n",
    "# Testando a função\n",
    "print(\"Número sorteado:\", escolha())"
   ]
  }
 ],
 "metadata": {
  "kernelspec": {
   "display_name": "Python 3",
   "language": "python",
   "name": "python3"
  },
  "language_info": {
   "codemirror_mode": {
    "name": "ipython",
    "version": 3
   },
   "file_extension": ".py",
   "mimetype": "text/x-python",
   "name": "python",
   "nbconvert_exporter": "python",
   "pygments_lexer": "ipython3",
   "version": "3.12.7"
  }
 },
 "nbformat": 4,
 "nbformat_minor": 2
}
